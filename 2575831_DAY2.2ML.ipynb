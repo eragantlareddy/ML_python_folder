{
 "cells": [
  {
   "cell_type": "code",
   "execution_count": 51,
   "id": "a97c31bc",
   "metadata": {},
   "outputs": [],
   "source": [
    "#3.EMPLOYEE PERFORMANCE#\n"
   ]
  },
  {
   "cell_type": "code",
   "execution_count": 58,
   "id": "c878bbf5",
   "metadata": {},
   "outputs": [],
   "source": [
    "import warnings\n",
    "import numpy as np\n",
    "import pandas as pd\n",
    "import matplotlib.pyplot as plt\n",
    "import seaborn as sns\n",
    "\n",
    "import statsmodels.api as sm"
   ]
  },
  {
   "cell_type": "code",
   "execution_count": 53,
   "id": "f74aa281",
   "metadata": {},
   "outputs": [],
   "source": [
    "from sklearn.model_selection import train_test_split\n",
    "from sklearn.linear_model import LinearRegression\n",
    "from sklearn.linear_model import Ridge\n",
    "from sklearn.linear_model import Lasso"
   ]
  },
  {
   "cell_type": "code",
   "execution_count": 64,
   "id": "d9613ca0",
   "metadata": {},
   "outputs": [
    {
     "name": "stdout",
     "output_type": "stream",
     "text": [
      "                            OLS Regression Results                            \n",
      "==============================================================================\n",
      "Dep. Variable:            Performance   R-squared:                       0.871\n",
      "Model:                            OLS   Adj. R-squared:                  0.867\n",
      "Method:                 Least Squares   F-statistic:                     215.8\n",
      "Date:                Mon, 30 Oct 2023   Prob (F-statistic):           1.58e-42\n",
      "Time:                        11:41:38   Log-Likelihood:                -294.14\n",
      "No. Observations:                 100   AIC:                             596.3\n",
      "Df Residuals:                      96   BIC:                             606.7\n",
      "Df Model:                           3                                         \n",
      "Covariance Type:            nonrobust                                         \n",
      "======================================================================================\n",
      "                         coef    std err          t      P>|t|      [0.025      0.975]\n",
      "--------------------------------------------------------------------------------------\n",
      "const                -65.2638     60.438     -1.080      0.283    -185.232      54.705\n",
      "Experience             1.8192      0.234      7.770      0.000       1.354       2.284\n",
      "Education_Level        3.1179      0.152     20.534      0.000       2.816       3.419\n",
      "Projects_Completed     4.6255      0.493      9.375      0.000       3.646       5.605\n",
      "==============================================================================\n",
      "Omnibus:                        0.370   Durbin-Watson:                   2.076\n",
      "Prob(Omnibus):                  0.831   Jarque-Bera (JB):                0.537\n",
      "Skew:                           0.070   Prob(JB):                        0.765\n",
      "Kurtosis:                       2.670   Cond. No.                     1.63e+04\n",
      "==============================================================================\n",
      "\n",
      "Notes:\n",
      "[1] Standard Errors assume that the covariance matrix of the errors is correctly specified.\n",
      "[2] The condition number is large, 1.63e+04. This might indicate that there are\n",
      "strong multicollinearity or other numerical problems.\n"
     ]
    }
   ],
   "source": [
    "np.random.seed(0)\n",
    "n = 100\n",
    "experience = np.random.normal(23, 2, n)\n",
    "education_level = np.random.normal(13, 3, n)\n",
    "projects_completed = np.random.normal(123, 1, n)\n",
    "employee_performance = 10 + 2 * experience + 3 * education_level + 4 * projects_completed + np.random.normal(0, 5, n)\n",
    "\n",
    "data = pd.DataFrame({'Experience': experience, 'Education_Level': education_level, 'Projects_Completed': projects_completed, 'Performance': employee_performance})\n",
    "\n",
    "# Initial linear regression model\n",
    "X = data[['Experience', 'Education_Level', 'Projects_Completed']]\n",
    "X = sm.add_constant(X)\n",
    "y = data['Performance']\n",
    "\n",
    "model = sm.OLS(y, X).fit()\n",
    "print(model.summary())"
   ]
  },
  {
   "cell_type": "code",
   "execution_count": 65,
   "id": "cd2c2219",
   "metadata": {},
   "outputs": [
    {
     "data": {
      "image/png": "[encoded data removed]",
      "text/plain": [
       "<Figure size 640x480 with 1 Axes>"
      ]
     },
     "metadata": {},
     "output_type": "display_data"
    }
   ],
   "source": [
    "# 2. Identifying Heteroscedasticity\n",
    "\n",
    "# a. Heteroscedasticity in the residuals\n",
    "residuals = model.resid\n",
    "\n",
    "# b. Diagnosing heteroscedasticity using a residual plot\n",
    "plt.scatter(model.fittedvalues, residuals)\n",
    "plt.xlabel('Fitted Values')\n",
    "plt.ylabel('Residuals')\n",
    "plt.title('Residual Plot')\n",
    "plt.show()"
   ]
  },
  {
   "cell_type": "code",
   "execution_count": 66,
   "id": "d9069a01",
   "metadata": {},
   "outputs": [
    {
     "name": "stdout",
     "output_type": "stream",
     "text": [
      "                            OLS Regression Results                            \n",
      "==============================================================================\n",
      "Dep. Variable:            Performance   R-squared:                       0.858\n",
      "Model:                            OLS   Adj. R-squared:                  0.854\n",
      "Method:                 Least Squares   F-statistic:                     193.6\n",
      "Date:                Mon, 30 Oct 2023   Prob (F-statistic):           1.43e-40\n",
      "Time:                        11:41:47   Log-Likelihood:                 338.83\n",
      "No. Observations:                 100   AIC:                            -669.7\n",
      "Df Residuals:                      96   BIC:                            -659.2\n",
      "Df Model:                           3                                         \n",
      "Covariance Type:            nonrobust                                         \n",
      "======================================================================================\n",
      "                         coef    std err          t      P>|t|      [0.025      0.975]\n",
      "--------------------------------------------------------------------------------------\n",
      "const                  1.2554      0.518      2.422      0.017       0.226       2.284\n",
      "Experience             0.0717      0.010      7.490      0.000       0.053       0.091\n",
      "Education_Level        0.0674      0.003     19.285      0.000       0.061       0.074\n",
      "Projects_Completed     0.9813      0.108      9.081      0.000       0.767       1.196\n",
      "==============================================================================\n",
      "Omnibus:                        0.188   Durbin-Watson:                   2.060\n",
      "Prob(Omnibus):                  0.910   Jarque-Bera (JB):                0.035\n",
      "Skew:                           0.043   Prob(JB):                        0.983\n",
      "Kurtosis:                       3.032   Cond. No.                     4.04e+03\n",
      "==============================================================================\n",
      "\n",
      "Notes:\n",
      "[1] Standard Errors assume that the covariance matrix of the errors is correctly specified.\n",
      "[2] The condition number is large, 4.04e+03. This might indicate that there are\n",
      "strong multicollinearity or other numerical problems.\n"
     ]
    },
    {
     "data": {
      "image/png": "[encoded data removed]",
      "text/plain": [
       "<Figure size 640x480 with 1 Axes>"
      ]
     },
     "metadata": {},
     "output_type": "display_data"
    }
   ],
   "source": [
    "# 3. Remedying Heteroscedasticity\n",
    "\n",
    "# Transforming variables to address heteroscedasticity (e.g., log transformation)\n",
    "X['Experience'] = np.log(X['Experience'])\n",
    "X['Education_Level'] = np.log(X['Education_Level'])\n",
    "X['Projects_Completed'] = np.log(X['Projects_Completed'])\n",
    "y = np.log(y)\n",
    "\n",
    "# Fit a new model after transforming the variables\n",
    "model_transformed = sm.OLS(y, X).fit()\n",
    "print(model_transformed.summary())\n",
    "\n",
    "# Check if heteroscedasticity is resolved in the transformed model\n",
    "residuals_transformed = model_transformed.resid\n",
    "plt.scatter(model_transformed.fittedvalues, residuals_transformed)\n",
    "plt.xlabel('Fitted Values')\n",
    "plt.ylabel('Residuals')\n",
    "plt.title('Residual Plot (Transformed)')\n",
    "plt.show()"
   ]
  },
  {
   "cell_type": "code",
   "execution_count": 67,
   "id": "9079e36c",
   "metadata": {},
   "outputs": [
    {
     "name": "stdout",
     "output_type": "stream",
     "text": [
      "                    Experience  Education_Level  Projects_Completed  \\\n",
      "Experience            1.000000         0.111729            0.076116   \n",
      "Education_Level       0.111729         1.000000            0.056035   \n",
      "Projects_Completed    0.076116         0.056035            1.000000   \n",
      "Performance           0.398571         0.810261            0.409656   \n",
      "\n",
      "                    Performance  \n",
      "Experience             0.398571  \n",
      "Education_Level        0.810261  \n",
      "Projects_Completed     0.409656  \n",
      "Performance            1.000000  \n",
      "             Variable            VIF\n",
      "0               const  386433.310062\n",
      "1          Experience       1.018672\n",
      "2     Education_Level       1.015709\n",
      "3  Projects_Completed       1.007404\n"
     ]
    }
   ],
   "source": [
    "# 4. Detecting Multicollinearity\n",
    "\n",
    "# Calculate the correlation matrix to identify highly correlated variables\n",
    "correlation_matrix = data.corr()\n",
    "print(correlation_matrix)\n",
    "\n",
    "# Calculate Variance Inflation Factors (VIF) to check for multicollinearity\n",
    "from statsmodels.stats.outliers_influence import variance_inflation_factor\n",
    "\n",
    "vif = pd.DataFrame()\n",
    "vif[\"Variable\"] = X.columns\n",
    "vif[\"VIF\"] = [variance_inflation_factor(X.values, i) for i in range(X.shape[1])]\n",
    "print(vif)"
   ]
  },
  {
   "cell_type": "code",
   "execution_count": 69,
   "id": "60750a10",
   "metadata": {},
   "outputs": [
    {
     "name": "stdout",
     "output_type": "stream",
     "text": [
      "Selected features to mitigate multicollinearity: Index(['Education_Level', 'Projects_Completed'], dtype='object')\n",
      "                                 OLS Regression Results                                \n",
      "=======================================================================================\n",
      "Dep. Variable:            Performance   R-squared (uncentered):                   1.000\n",
      "Model:                            OLS   Adj. R-squared (uncentered):              1.000\n",
      "Method:                 Least Squares   F-statistic:                          1.818e+07\n",
      "Date:                Mon, 30 Oct 2023   Prob (F-statistic):                   1.25e-273\n",
      "Time:                        11:46:07   Log-Likelihood:                          314.08\n",
      "No. Observations:                 100   AIC:                                     -624.2\n",
      "Df Residuals:                      98   BIC:                                     -618.9\n",
      "Df Model:                           2                                                  \n",
      "Covariance Type:            nonrobust                                                  \n",
      "======================================================================================\n",
      "                         coef    std err          t      P>|t|      [0.025      0.975]\n",
      "--------------------------------------------------------------------------------------\n",
      "Education_Level        0.0701      0.004     15.933      0.000       0.061       0.079\n",
      "Projects_Completed     1.2875      0.002    548.275      0.000       1.283       1.292\n",
      "==============================================================================\n",
      "Omnibus:                        1.383   Durbin-Watson:                   1.999\n",
      "Prob(Omnibus):                  0.501   Jarque-Bera (JB):                1.386\n",
      "Skew:                          -0.196   Prob(JB):                        0.500\n",
      "Kurtosis:                       2.577   Cond. No.                         25.7\n",
      "==============================================================================\n",
      "\n",
      "Notes:\n",
      "[1] R² is computed without centering (uncentered) since the model does not contain a constant.\n",
      "[2] Standard Errors assume that the covariance matrix of the errors is correctly specified.\n",
      "R-squared for the improved model: 0.7672537765005657\n",
      "MAE for the improved model: 0.008482326714574268\n",
      "MSE for the improved model: 0.00010951248696786468\n",
      "RMSE for the improved model: 0.0104648214016229\n"
     ]
    }
   ],
   "source": [
    "# Task 5: Mitigating Multicollinearity\n",
    "\n",
    "from sklearn.feature_selection import SelectKBest, f_regression\n",
    "selector = SelectKBest(score_func=f_regression, k=2)  # Select the best 2 features\n",
    "X_selected = selector.fit_transform(X, y)\n",
    "\n",
    "# Print the selected features\n",
    "selected_features = X.columns[selector.get_support()]\n",
    "print(f'Selected features to mitigate multicollinearity: {selected_features}')\n",
    "\n",
    "# Rebuild the model with selected features\n",
    "X_reduced = X[selected_features]\n",
    "model_reduced = sm.OLS(y, X_reduced).fit()\n",
    "print(model_reduced.summary())\n",
    "\n",
    "# Evaluate the model's performance\n",
    "y_pred = model_reduced.predict(X_reduced)\n",
    "\n",
    "# Calculate R-squared for the improved model\n",
    "r2_improved = r2_score(y, y_pred)\n",
    "print(f'R-squared for the improved model: {r2_improved}')\n",
    "\n",
    "# Calculate other evaluation metrics (MAE, MSE, RMSE) for the improved model\n",
    "mae_improved = mean_absolute_error(y, y_pred)\n",
    "mse_improved = mean_squared_error(y, y_pred)\n",
    "rmse_improved = np.sqrt(mse_improved)\n",
    "\n",
    "print(f'MAE for the improved model: {mae_improved}')\n",
    "print(f'MSE for the improved model: {mse_improved}')\n",
    "print(f'RMSE for the improved model: {rmse_improved}')\n",
    "\n"
   ]
  },
  {
   "cell_type": "code",
   "execution_count": null,
   "id": "2352e8be",
   "metadata": {},
   "outputs": [],
   "source": []
  }
 ],
 "metadata": {
  "kernelspec": {
   "display_name": "Python 3 (ipykernel)",
   "language": "python",
   "name": "python3"
  },
  "language_info": {
   "codemirror_mode": {
    "name": "ipython",
    "version": 3
   },
   "file_extension": ".py",
   "mimetype": "text/x-python",
   "name": "python",
   "nbconvert_exporter": "python",
   "pygments_lexer": "ipython3",
   "version": "3.11.4"
  }
 },
 "nbformat": 4,
 "nbformat_minor": 5
}
